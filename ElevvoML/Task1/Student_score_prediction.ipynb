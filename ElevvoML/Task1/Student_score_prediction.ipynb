{
 "cells": [
  {
   "cell_type": "code",
   "execution_count": 28,
   "id": "e88f64f2",
   "metadata": {},
   "outputs": [],
   "source": [
    "import pandas as pd\n",
    "import numpy as np\n",
    "import matplotlib.pyplot as plt\n",
    "import seaborn as sns\n",
    "from sklearn.model_selection import train_test_split\n",
    "from sklearn.linear_model import LinearRegression\n",
    "from sklearn.preprocessing import LabelEncoder, StandardScaler\n",
    "from sklearn.metrics import mean_squared_error, r2_score, mean_absolute_error\n",
    "from sklearn.ensemble import RandomForestRegressor\n",
    "import joblib\n",
    "import warnings\n",
    "warnings.filterwarnings('ignore')\n"
   ]
  },
  {
   "cell_type": "code",
   "execution_count": 29,
   "id": "71a3956a",
   "metadata": {},
   "outputs": [
    {
     "name": "stdout",
     "output_type": "stream",
     "text": [
      "🎓 Student Performance Data Preprocessing\n",
      "==================================================\n",
      "\n",
      "📊 Step 1: Loading Data\n",
      "-------------------------\n"
     ]
    }
   ],
   "source": [
    "print(\"🎓 Student Performance Data Preprocessing\")\n",
    "print(\"=\" * 50)\n",
    "print(\"\\n📊 Step 1: Loading Data\")\n",
    "print(\"-\" * 25)"
   ]
  },
  {
   "cell_type": "code",
   "execution_count": 30,
   "id": "2c126ce9",
   "metadata": {},
   "outputs": [
    {
     "name": "stdout",
     "output_type": "stream",
     "text": [
      "Dataset shape: (6607, 20)\n",
      "Columns: ['Hours_Studied', 'Attendance', 'Parental_Involvement', 'Access_to_Resources', 'Extracurricular_Activities', 'Sleep_Hours', 'Previous_Scores', 'Motivation_Level', 'Internet_Access', 'Tutoring_Sessions', 'Family_Income', 'Teacher_Quality', 'School_Type', 'Peer_Influence', 'Physical_Activity', 'Learning_Disabilities', 'Parental_Education_Level', 'Distance_from_Home', 'Gender', 'Exam_Score']\n"
     ]
    }
   ],
   "source": [
    "df = pd.read_csv('StudentPerformanceFactors.csv')\n",
    "\n",
    "print(f\"Dataset shape: {df.shape}\")\n",
    "print(f\"Columns: {list(df.columns)}\")"
   ]
  },
  {
   "cell_type": "code",
   "execution_count": 31,
   "id": "1481ba39",
   "metadata": {},
   "outputs": [
    {
     "name": "stdout",
     "output_type": "stream",
     "text": [
      "\n",
      "📋 Dataset Info:\n",
      "<class 'pandas.core.frame.DataFrame'>\n",
      "RangeIndex: 6607 entries, 0 to 6606\n",
      "Data columns (total 20 columns):\n",
      " #   Column                      Non-Null Count  Dtype \n",
      "---  ------                      --------------  ----- \n",
      " 0   Hours_Studied               6607 non-null   int64 \n",
      " 1   Attendance                  6607 non-null   int64 \n",
      " 2   Parental_Involvement        6607 non-null   object\n",
      " 3   Access_to_Resources         6607 non-null   object\n",
      " 4   Extracurricular_Activities  6607 non-null   object\n",
      " 5   Sleep_Hours                 6607 non-null   int64 \n",
      " 6   Previous_Scores             6607 non-null   int64 \n",
      " 7   Motivation_Level            6607 non-null   object\n",
      " 8   Internet_Access             6607 non-null   object\n",
      " 9   Tutoring_Sessions           6607 non-null   int64 \n",
      " 10  Family_Income               6607 non-null   object\n",
      " 11  Teacher_Quality             6529 non-null   object\n",
      " 12  School_Type                 6607 non-null   object\n",
      " 13  Peer_Influence              6607 non-null   object\n",
      " 14  Physical_Activity           6607 non-null   int64 \n",
      " 15  Learning_Disabilities       6607 non-null   object\n",
      " 16  Parental_Education_Level    6517 non-null   object\n",
      " 17  Distance_from_Home          6540 non-null   object\n",
      " 18  Gender                      6607 non-null   object\n",
      " 19  Exam_Score                  6607 non-null   int64 \n",
      "dtypes: int64(7), object(13)\n",
      "memory usage: 1.0+ MB\n",
      "\n",
      "❌ Missing values:\n",
      "Hours_Studied                  0\n",
      "Attendance                     0\n",
      "Parental_Involvement           0\n",
      "Access_to_Resources            0\n",
      "Extracurricular_Activities     0\n",
      "Sleep_Hours                    0\n",
      "Previous_Scores                0\n",
      "Motivation_Level               0\n",
      "Internet_Access                0\n",
      "Tutoring_Sessions              0\n",
      "Family_Income                  0\n",
      "Teacher_Quality               78\n",
      "School_Type                    0\n",
      "Peer_Influence                 0\n",
      "Physical_Activity              0\n",
      "Learning_Disabilities          0\n",
      "Parental_Education_Level      90\n",
      "Distance_from_Home            67\n",
      "Gender                         0\n",
      "Exam_Score                     0\n",
      "dtype: int64\n"
     ]
    }
   ],
   "source": [
    "print(\"\\n📋 Dataset Info:\")\n",
    "df.info()\n",
    "\n",
    "print(f\"\\n❌ Missing values:\\n{df.isnull().sum()}\")\n"
   ]
  },
  {
   "cell_type": "code",
   "execution_count": 32,
   "id": "5fab8255",
   "metadata": {},
   "outputs": [
    {
     "name": "stdout",
     "output_type": "stream",
     "text": [
      "\n",
      "🔍 First 5 rows:\n"
     ]
    },
    {
     "data": {
      "text/html": [
       "<div>\n",
       "<style scoped>\n",
       "    .dataframe tbody tr th:only-of-type {\n",
       "        vertical-align: middle;\n",
       "    }\n",
       "\n",
       "    .dataframe tbody tr th {\n",
       "        vertical-align: top;\n",
       "    }\n",
       "\n",
       "    .dataframe thead th {\n",
       "        text-align: right;\n",
       "    }\n",
       "</style>\n",
       "<table border=\"1\" class=\"dataframe\">\n",
       "  <thead>\n",
       "    <tr style=\"text-align: right;\">\n",
       "      <th></th>\n",
       "      <th>Hours_Studied</th>\n",
       "      <th>Attendance</th>\n",
       "      <th>Parental_Involvement</th>\n",
       "      <th>Access_to_Resources</th>\n",
       "      <th>Extracurricular_Activities</th>\n",
       "      <th>Sleep_Hours</th>\n",
       "      <th>Previous_Scores</th>\n",
       "      <th>Motivation_Level</th>\n",
       "      <th>Internet_Access</th>\n",
       "      <th>Tutoring_Sessions</th>\n",
       "      <th>Family_Income</th>\n",
       "      <th>Teacher_Quality</th>\n",
       "      <th>School_Type</th>\n",
       "      <th>Peer_Influence</th>\n",
       "      <th>Physical_Activity</th>\n",
       "      <th>Learning_Disabilities</th>\n",
       "      <th>Parental_Education_Level</th>\n",
       "      <th>Distance_from_Home</th>\n",
       "      <th>Gender</th>\n",
       "      <th>Exam_Score</th>\n",
       "    </tr>\n",
       "  </thead>\n",
       "  <tbody>\n",
       "    <tr>\n",
       "      <th>0</th>\n",
       "      <td>23</td>\n",
       "      <td>84</td>\n",
       "      <td>Low</td>\n",
       "      <td>High</td>\n",
       "      <td>No</td>\n",
       "      <td>7</td>\n",
       "      <td>73</td>\n",
       "      <td>Low</td>\n",
       "      <td>Yes</td>\n",
       "      <td>0</td>\n",
       "      <td>Low</td>\n",
       "      <td>Medium</td>\n",
       "      <td>Public</td>\n",
       "      <td>Positive</td>\n",
       "      <td>3</td>\n",
       "      <td>No</td>\n",
       "      <td>High School</td>\n",
       "      <td>Near</td>\n",
       "      <td>Male</td>\n",
       "      <td>67</td>\n",
       "    </tr>\n",
       "    <tr>\n",
       "      <th>1</th>\n",
       "      <td>19</td>\n",
       "      <td>64</td>\n",
       "      <td>Low</td>\n",
       "      <td>Medium</td>\n",
       "      <td>No</td>\n",
       "      <td>8</td>\n",
       "      <td>59</td>\n",
       "      <td>Low</td>\n",
       "      <td>Yes</td>\n",
       "      <td>2</td>\n",
       "      <td>Medium</td>\n",
       "      <td>Medium</td>\n",
       "      <td>Public</td>\n",
       "      <td>Negative</td>\n",
       "      <td>4</td>\n",
       "      <td>No</td>\n",
       "      <td>College</td>\n",
       "      <td>Moderate</td>\n",
       "      <td>Female</td>\n",
       "      <td>61</td>\n",
       "    </tr>\n",
       "    <tr>\n",
       "      <th>2</th>\n",
       "      <td>24</td>\n",
       "      <td>98</td>\n",
       "      <td>Medium</td>\n",
       "      <td>Medium</td>\n",
       "      <td>Yes</td>\n",
       "      <td>7</td>\n",
       "      <td>91</td>\n",
       "      <td>Medium</td>\n",
       "      <td>Yes</td>\n",
       "      <td>2</td>\n",
       "      <td>Medium</td>\n",
       "      <td>Medium</td>\n",
       "      <td>Public</td>\n",
       "      <td>Neutral</td>\n",
       "      <td>4</td>\n",
       "      <td>No</td>\n",
       "      <td>Postgraduate</td>\n",
       "      <td>Near</td>\n",
       "      <td>Male</td>\n",
       "      <td>74</td>\n",
       "    </tr>\n",
       "    <tr>\n",
       "      <th>3</th>\n",
       "      <td>29</td>\n",
       "      <td>89</td>\n",
       "      <td>Low</td>\n",
       "      <td>Medium</td>\n",
       "      <td>Yes</td>\n",
       "      <td>8</td>\n",
       "      <td>98</td>\n",
       "      <td>Medium</td>\n",
       "      <td>Yes</td>\n",
       "      <td>1</td>\n",
       "      <td>Medium</td>\n",
       "      <td>Medium</td>\n",
       "      <td>Public</td>\n",
       "      <td>Negative</td>\n",
       "      <td>4</td>\n",
       "      <td>No</td>\n",
       "      <td>High School</td>\n",
       "      <td>Moderate</td>\n",
       "      <td>Male</td>\n",
       "      <td>71</td>\n",
       "    </tr>\n",
       "    <tr>\n",
       "      <th>4</th>\n",
       "      <td>19</td>\n",
       "      <td>92</td>\n",
       "      <td>Medium</td>\n",
       "      <td>Medium</td>\n",
       "      <td>Yes</td>\n",
       "      <td>6</td>\n",
       "      <td>65</td>\n",
       "      <td>Medium</td>\n",
       "      <td>Yes</td>\n",
       "      <td>3</td>\n",
       "      <td>Medium</td>\n",
       "      <td>High</td>\n",
       "      <td>Public</td>\n",
       "      <td>Neutral</td>\n",
       "      <td>4</td>\n",
       "      <td>No</td>\n",
       "      <td>College</td>\n",
       "      <td>Near</td>\n",
       "      <td>Female</td>\n",
       "      <td>70</td>\n",
       "    </tr>\n",
       "  </tbody>\n",
       "</table>\n",
       "</div>"
      ],
      "text/plain": [
       "   Hours_Studied  Attendance Parental_Involvement Access_to_Resources  \\\n",
       "0             23          84                  Low                High   \n",
       "1             19          64                  Low              Medium   \n",
       "2             24          98               Medium              Medium   \n",
       "3             29          89                  Low              Medium   \n",
       "4             19          92               Medium              Medium   \n",
       "\n",
       "  Extracurricular_Activities  Sleep_Hours  Previous_Scores Motivation_Level  \\\n",
       "0                         No            7               73              Low   \n",
       "1                         No            8               59              Low   \n",
       "2                        Yes            7               91           Medium   \n",
       "3                        Yes            8               98           Medium   \n",
       "4                        Yes            6               65           Medium   \n",
       "\n",
       "  Internet_Access  Tutoring_Sessions Family_Income Teacher_Quality  \\\n",
       "0             Yes                  0           Low          Medium   \n",
       "1             Yes                  2        Medium          Medium   \n",
       "2             Yes                  2        Medium          Medium   \n",
       "3             Yes                  1        Medium          Medium   \n",
       "4             Yes                  3        Medium            High   \n",
       "\n",
       "  School_Type Peer_Influence  Physical_Activity Learning_Disabilities  \\\n",
       "0      Public       Positive                  3                    No   \n",
       "1      Public       Negative                  4                    No   \n",
       "2      Public        Neutral                  4                    No   \n",
       "3      Public       Negative                  4                    No   \n",
       "4      Public        Neutral                  4                    No   \n",
       "\n",
       "  Parental_Education_Level Distance_from_Home  Gender  Exam_Score  \n",
       "0              High School               Near    Male          67  \n",
       "1                  College           Moderate  Female          61  \n",
       "2             Postgraduate               Near    Male          74  \n",
       "3              High School           Moderate    Male          71  \n",
       "4                  College               Near  Female          70  "
      ]
     },
     "metadata": {},
     "output_type": "display_data"
    }
   ],
   "source": [
    "print(\"\\n🔍 First 5 rows:\")\n",
    "display(df.head())"
   ]
  },
  {
   "cell_type": "code",
   "execution_count": 33,
   "id": "4a3eb326",
   "metadata": {},
   "outputs": [
    {
     "name": "stdout",
     "output_type": "stream",
     "text": [
      "\n",
      "🧹 Step 2: Data Cleaning\n",
      "----------------------------\n",
      "Handling missing values...\n",
      "Rows after cleaning: 6378\n"
     ]
    }
   ],
   "source": [
    "print(\"\\n🧹 Step 2: Data Cleaning\")\n",
    "print(\"-\" * 28)\n",
    "if df.isnull().sum().sum() > 0:\n",
    "    print(\"Handling missing values...\")\n",
    "    df = df.dropna()\n",
    "    print(f\"Rows after cleaning: {len(df)}\")\n",
    "else:\n",
    "    print(\"✅ No missing values found!\")"
   ]
  },
  {
   "cell_type": "code",
   "execution_count": 34,
   "id": "400073b5",
   "metadata": {},
   "outputs": [
    {
     "name": "stdout",
     "output_type": "stream",
     "text": [
      "\n",
      "🏷️ Categorical columns and their unique values:\n",
      "Parental_Involvement: 3 unique values - ['Low' 'Medium' 'High']...\n",
      "Access_to_Resources: 3 unique values - ['High' 'Medium' 'Low']...\n",
      "Extracurricular_Activities: 2 unique values - ['No' 'Yes']...\n",
      "Motivation_Level: 3 unique values - ['Low' 'Medium' 'High']...\n",
      "Internet_Access: 2 unique values - ['Yes' 'No']...\n",
      "Family_Income: 3 unique values - ['Low' 'Medium' 'High']...\n",
      "Teacher_Quality: 3 unique values - ['Medium' 'High' 'Low']...\n",
      "School_Type: 2 unique values - ['Public' 'Private']...\n",
      "Peer_Influence: 3 unique values - ['Positive' 'Negative' 'Neutral']...\n",
      "Learning_Disabilities: 2 unique values - ['No' 'Yes']...\n",
      "Parental_Education_Level: 3 unique values - ['High School' 'College' 'Postgraduate']...\n",
      "Distance_from_Home: 3 unique values - ['Near' 'Moderate' 'Far']...\n",
      "Gender: 2 unique values - ['Male' 'Female']...\n"
     ]
    }
   ],
   "source": [
    "print(\"\\n🏷️ Categorical columns and their unique values:\")\n",
    "categorical_columns = df.select_dtypes(include=['object']).columns.tolist()\n",
    "\n",
    "for col in categorical_columns:\n",
    "    unique_vals = df[col].unique()\n",
    "    print(f\"{col}: {len(unique_vals)} unique values - {unique_vals[:5]}...\")"
   ]
  },
  {
   "cell_type": "code",
   "execution_count": 35,
   "id": "2b300dbd",
   "metadata": {},
   "outputs": [
    {
     "name": "stdout",
     "output_type": "stream",
     "text": [
      "\n",
      "⚙️ Step 3: Encoding Categorical Variables\n",
      "------------------------------------------\n",
      "✅ Encoded Parental_Involvement\n",
      "✅ Encoded Access_to_Resources\n",
      "✅ Encoded Extracurricular_Activities\n",
      "✅ Encoded Motivation_Level\n",
      "✅ Encoded Internet_Access\n",
      "✅ Encoded Family_Income\n",
      "✅ Encoded Teacher_Quality\n",
      "✅ Encoded School_Type\n",
      "✅ Encoded Peer_Influence\n",
      "✅ Encoded Learning_Disabilities\n",
      "✅ Encoded Parental_Education_Level\n",
      "✅ Encoded Distance_from_Home\n",
      "✅ Encoded Gender\n"
     ]
    }
   ],
   "source": [
    "print(\"\\n⚙️ Step 3: Encoding Categorical Variables\")\n",
    "print(\"-\" * 42)\n",
    "label_encoders = {}\n",
    "df_processed = df.copy()\n",
    "\n",
    "for col in categorical_columns:\n",
    "    le = LabelEncoder()\n",
    "    df_processed[col] = le.fit_transform(df[col])\n",
    "    label_encoders[col] = le\n",
    "    print(f\"✅ Encoded {col}\")\n"
   ]
  },
  {
   "cell_type": "code",
   "execution_count": 36,
   "id": "a0559c18",
   "metadata": {},
   "outputs": [
    {
     "name": "stdout",
     "output_type": "stream",
     "text": [
      "📁 Saved label encoders to 'label_encoders.pkl'\n"
     ]
    }
   ],
   "source": [
    "joblib.dump(label_encoders, 'label_encoders.pkl')\n",
    "print(\"📁 Saved label encoders to 'label_encoders.pkl'\")"
   ]
  },
  {
   "cell_type": "code",
   "execution_count": 37,
   "id": "860ff9af",
   "metadata": {},
   "outputs": [
    {
     "name": "stdout",
     "output_type": "stream",
     "text": [
      "\n",
      "🎯 Step 4: Feature Selection\n",
      "--------------------------------\n",
      "Selected features: 12\n",
      "Feature matrix shape: (6378, 12)\n",
      "Target variable: Exam_Score (range: 55-101)\n"
     ]
    }
   ],
   "source": [
    "print(\"\\n🎯 Step 4: Feature Selection\")\n",
    "print(\"-\" * 32)\n",
    "feature_columns = [\n",
    "    'Hours_Studied', 'Attendance', 'Previous_Scores', 'Sleep_Hours',\n",
    "    'Tutoring_Sessions', 'Physical_Activity', 'Parental_Involvement',\n",
    "    'Access_to_Resources', 'Motivation_Level', 'Internet_Access',\n",
    "    'Teacher_Quality', 'Peer_Influence'\n",
    "]\n",
    "\n",
    "X = df_processed[feature_columns]\n",
    "y = df_processed['Exam_Score']\n",
    "\n",
    "print(f\"Selected features: {len(feature_columns)}\")\n",
    "print(f\"Feature matrix shape: {X.shape}\")\n",
    "print(f\"Target variable: Exam_Score (range: {y.min()}-{y.max()})\")"
   ]
  },
  {
   "cell_type": "code",
   "execution_count": 38,
   "id": "efc8edb4",
   "metadata": {},
   "outputs": [
    {
     "name": "stdout",
     "output_type": "stream",
     "text": [
      "\n",
      "🔗 Step 5: Correlation Analysis\n",
      "----------------------------------\n",
      "📊 Feature correlations with Exam Score:\n",
      "   Attendance               : 0.580\n",
      "   Hours_Studied            : 0.445\n",
      "   Previous_Scores          : 0.174\n",
      "   Tutoring_Sessions        : 0.157\n",
      "   Peer_Influence           : 0.099\n",
      "   Parental_Involvement     : 0.094\n",
      "   Access_to_Resources      : 0.088\n",
      "   Teacher_Quality          : 0.059\n"
     ]
    }
   ],
   "source": [
    "print(\"\\n🔗 Step 5: Correlation Analysis\")\n",
    "print(\"-\" * 34)\n",
    "correlations = X.corrwith(y).abs().sort_values(ascending=False)\n",
    "print(\"📊 Feature correlations with Exam Score:\")\n",
    "for feature, corr in correlations.head(8).items():\n",
    "    print(f\"   {feature:25}: {corr:.3f}\")\n"
   ]
  },
  {
   "cell_type": "code",
   "execution_count": 39,
   "id": "e7c11aa2",
   "metadata": {},
   "outputs": [
    {
     "data": {
      "image/png": "[encoded data removed]",
      "text/plain": [
       "<Figure size 1400x1000 with 2 Axes>"
      ]
     },
     "metadata": {},
     "output_type": "display_data"
    }
   ],
   "source": [
    "plt.figure(figsize=(14, 10))\n",
    "correlation_matrix = df_processed[feature_columns + ['Exam_Score']].corr()\n",
    "\n",
    "\n",
    "mask = np.triu(np.ones_like(correlation_matrix, dtype=bool))  \n",
    "\n",
    "sns.heatmap(correlation_matrix, mask=mask, annot=True, cmap='RdBu_r', center=0,\n",
    "            square=True, linewidths=0.5, annot_kws={'size': 9},\n",
    "            cbar_kws={\"shrink\": 0.8, \"label\": \"Correlation Coefficient\"})\n",
    "\n",
    "plt.title('Student Performance: Feature Correlations', fontsize=16, fontweight='bold', pad=20)\n",
    "plt.xticks(rotation=45, ha='right', fontsize=10)\n",
    "plt.yticks(fontsize=10)\n",
    "plt.tight_layout()\n",
    "plt.savefig('correlation_matrix.png', dpi=150, bbox_inches='tight', facecolor='white')\n",
    "plt.show()"
   ]
  },
  {
   "cell_type": "code",
   "execution_count": 40,
   "id": "762fe30f",
   "metadata": {},
   "outputs": [
    {
     "name": "stdout",
     "output_type": "stream",
     "text": [
      "\n",
      "🔄 Step 6: Train-Test Split\n",
      "------------------------------\n",
      "Training set: 5102 samples\n",
      "Test set: 1276 samples\n"
     ]
    }
   ],
   "source": [
    "print(\"\\n🔄 Step 6: Train-Test Split\")\n",
    "print(\"-\" * 30)\n",
    "X_train, X_test, y_train, y_test = train_test_split(\n",
    "    X, y, test_size=0.2, random_state=42\n",
    ")\n",
    "\n",
    "print(f\"Training set: {X_train.shape[0]} samples\")\n",
    "print(f\"Test set: {X_test.shape[0]} samples\")\n"
   ]
  },
  {
   "cell_type": "code",
   "execution_count": 41,
   "id": "b025bf88",
   "metadata": {},
   "outputs": [
    {
     "name": "stdout",
     "output_type": "stream",
     "text": [
      "\n",
      "🤖 Step 7: Training Models\n",
      "------------------------------\n",
      "Training Linear Regression...\n",
      "   Linear Regression - R²: 0.646, RMSE: 2.344\n"
     ]
    }
   ],
   "source": [
    "print(\"\\n🤖 Step 7: Training Models\")\n",
    "print(\"-\" * 30)\n",
    "print(\"Training Linear Regression...\")\n",
    "lr_model = LinearRegression()\n",
    "lr_model.fit(X_train, y_train)\n",
    "\n",
    "y_pred_lr = lr_model.predict(X_test)\n",
    "lr_r2 = r2_score(y_test, y_pred_lr)\n",
    "lr_rmse = np.sqrt(mean_squared_error(y_test, y_pred_lr))\n",
    "lr_mae = mean_absolute_error(y_test, y_pred_lr)\n",
    "\n",
    "print(f\"   Linear Regression - R²: {lr_r2:.3f}, RMSE: {lr_rmse:.3f}\")\n"
   ]
  },
  {
   "cell_type": "code",
   "execution_count": 42,
   "id": "dfc5b3f5",
   "metadata": {},
   "outputs": [
    {
     "name": "stdout",
     "output_type": "stream",
     "text": [
      "Training Random Forest...\n",
      "   Random Forest - R²: 0.617, RMSE: 2.441\n"
     ]
    }
   ],
   "source": [
    "print(\"Training Random Forest...\")\n",
    "rf_model = RandomForestRegressor(n_estimators=100, random_state=42)\n",
    "rf_model.fit(X_train, y_train)\n",
    "\n",
    "y_pred_rf = rf_model.predict(X_test)\n",
    "rf_r2 = r2_score(y_test, y_pred_rf)\n",
    "rf_rmse = np.sqrt(mean_squared_error(y_test, y_pred_rf))\n",
    "rf_mae = mean_absolute_error(y_test, y_pred_rf)\n",
    "\n",
    "print(f\"   Random Forest - R²: {rf_r2:.3f}, RMSE: {rf_rmse:.3f}\")\n"
   ]
  },
  {
   "cell_type": "code",
   "execution_count": 43,
   "id": "c278a919",
   "metadata": {},
   "outputs": [
    {
     "name": "stdout",
     "output_type": "stream",
     "text": [
      "\n",
      "💾 Step 8: Saving Models and Data\n",
      "-------------------------------------\n",
      "✅ Saved models:\n",
      "   - linear_regression_model.pkl\n",
      "   - random_forest_model.pkl\n"
     ]
    }
   ],
   "source": [
    "print(\"\\n💾 Step 8: Saving Models and Data\")\n",
    "print(\"-\" * 37)\n",
    "joblib.dump(lr_model, 'linear_regression_model.pkl')\n",
    "joblib.dump(rf_model, 'random_forest_model.pkl')\n",
    "print(\"✅ Saved models:\")\n",
    "print(\"   - linear_regression_model.pkl\")\n",
    "print(\"   - random_forest_model.pkl\")"
   ]
  },
  {
   "cell_type": "code",
   "execution_count": 44,
   "id": "02a601ec",
   "metadata": {},
   "outputs": [
    {
     "name": "stdout",
     "output_type": "stream",
     "text": [
      "✅ Saved model information to 'model_info.pkl'\n"
     ]
    }
   ],
   "source": [
    "processed_data_info = {\n",
    "    'feature_columns': feature_columns,\n",
    "    'categorical_columns': categorical_columns,\n",
    "    'feature_stats': X.describe().to_dict(),\n",
    "    'target_stats': {\n",
    "        'min': float(y.min()),\n",
    "        'max': float(y.max()),\n",
    "        'mean': float(y.mean()),\n",
    "        'std': float(y.std())\n",
    "    },\n",
    "    'model_performance': {\n",
    "        'linear_regression': {'r2': lr_r2, 'rmse': lr_rmse, 'mae': lr_mae},\n",
    "        'random_forest': {'r2': rf_r2, 'rmse': rf_rmse, 'mae': rf_mae}\n",
    "    }\n",
    "}\n",
    "\n",
    "joblib.dump(processed_data_info, 'model_info.pkl')\n",
    "print(\"✅ Saved model information to 'model_info.pkl'\")\n"
   ]
  },
  {
   "cell_type": "code",
   "execution_count": 45,
   "id": "22440730",
   "metadata": {},
   "outputs": [
    {
     "name": "stdout",
     "output_type": "stream",
     "text": [
      "\n",
      "🎯 Step 9: Feature Importance Analysis\n",
      "----------------------------------------\n",
      "📊 Linear Regression Feature Importance:\n",
      "   Internet_Access          :    0.898\n",
      "   Peer_Influence           :    0.523\n",
      "   Tutoring_Sessions        :    0.489\n",
      "   Access_to_Resources      :   -0.410\n",
      "   Parental_Involvement     :   -0.391\n",
      "   Hours_Studied            :    0.291\n"
     ]
    }
   ],
   "source": [
    "print(\"\\n🎯 Step 9: Feature Importance Analysis\")\n",
    "print(\"-\" * 40)\n",
    "lr_importance = pd.DataFrame({\n",
    "    'Feature': feature_columns,\n",
    "    'Coefficient': lr_model.coef_,\n",
    "    'Abs_Coefficient': np.abs(lr_model.coef_)\n",
    "}).sort_values('Abs_Coefficient', ascending=False)\n",
    "\n",
    "print(\"📊 Linear Regression Feature Importance:\")\n",
    "for idx, row in lr_importance.head(6).iterrows():\n",
    "    print(f\"   {row['Feature']:25}: {row['Coefficient']:8.3f}\")"
   ]
  },
  {
   "cell_type": "code",
   "execution_count": 46,
   "id": "068aae2d",
   "metadata": {},
   "outputs": [
    {
     "name": "stdout",
     "output_type": "stream",
     "text": [
      "\n",
      "🌳 Random Forest Feature Importance:\n",
      "   Attendance               :    0.391\n",
      "   Hours_Studied            :    0.256\n",
      "   Previous_Scores          :    0.104\n",
      "   Tutoring_Sessions        :    0.047\n",
      "   Physical_Activity        :    0.035\n",
      "   Sleep_Hours              :    0.034\n"
     ]
    }
   ],
   "source": [
    "rf_importance = pd.DataFrame({\n",
    "    'Feature': feature_columns,\n",
    "    'Importance': rf_model.feature_importances_\n",
    "}).sort_values('Importance', ascending=False)\n",
    "\n",
    "print(f\"\\n🌳 Random Forest Feature Importance:\")\n",
    "for idx, row in rf_importance.head(6).iterrows():\n",
    "    print(f\"   {row['Feature']:25}: {row['Importance']:8.3f}\")"
   ]
  },
  {
   "cell_type": "code",
   "execution_count": null,
   "id": "24cc4ecd",
   "metadata": {},
   "outputs": [
    {
     "data": {
      "application/vnd.plotly.v1+json": {
       "config": {
        "plotlyServerURL": "https://plot.ly"
       },
       "data": [
        {
         "marker": {
          "color": "#1f77b4"
         },
         "name": "Linear Regression",
         "orientation": "h",
         "type": "bar",
         "x": {
          "bdata": "CLIxvmi/7D9nXRlFz7jgP6F0vBo9Sd8/w/seAuk+2j83FJkn8APZP7cP0sfApdI/sejOH+G20D+bMpPfA2vJPw==",
          "dtype": "f8"
         },
         "xaxis": "x",
         "y": [
          "Internet_Access",
          "Peer_Influence",
          "Tutoring_Sessions",
          "Access_to_Resources",
          "Parental_Involvement",
          "Hours_Studied",
          "Teacher_Quality",
          "Attendance"
         ],
         "yaxis": "y"
        },
        {
         "marker": {
          "color": "#ff7f0e"
         },
         "name": "Random Forest",
         "orientation": "h",
         "type": "bar",
         "x": {
          "bdata": "uIeU3pEM2T9ggkLQsGjQP7LnKBlQsLo/upX+MKjhpz8mrmckhfKhP7oSU9CehqE/2IrPArkJoT/usRjDawugPw==",
          "dtype": "f8"
         },
         "xaxis": "x2",
         "y": [
          "Attendance",
          "Hours_Studied",
          "Previous_Scores",
          "Tutoring_Sessions",
          "Physical_Activity",
          "Sleep_Hours",
          "Access_to_Resources",
          "Parental_Involvement"
         ],
         "yaxis": "y2"
        }
       ],
       "layout": {
        "annotations": [
         {
          "font": {
           "size": 16
          },
          "showarrow": false,
          "text": "<b>Linear Regression</b><br>Feature Importance",
          "x": 0.2,
          "xanchor": "center",
          "xref": "paper",
          "y": 1,
          "yanchor": "bottom",
          "yref": "paper"
         },
         {
          "font": {
           "size": 16
          },
          "showarrow": false,
          "text": "<b>Random Forest</b><br>Feature Importance",
          "x": 0.8,
          "xanchor": "center",
          "xref": "paper",
          "y": 1,
          "yanchor": "bottom",
          "yref": "paper"
         }
        ],
        "height": 600,
        "margin": {
         "b": 50,
         "l": 50,
         "r": 50,
         "t": 150
        },
        "showlegend": false,
        "template": {
         "data": {
          "bar": [
           {
            "error_x": {
             "color": "#2a3f5f"
            },
            "error_y": {
             "color": "#2a3f5f"
            },
            "marker": {
             "line": {
              "color": "#E5ECF6",
              "width": 0.5
             },
             "pattern": {
              "fillmode": "overlay",
              "size": 10,
              "solidity": 0.2
             }
            },
            "type": "bar"
           }
          ],
          "barpolar": [
           {
            "marker": {
             "line": {
              "color": "#E5ECF6",
              "width": 0.5
             },
             "pattern": {
              "fillmode": "overlay",
              "size": 10,
              "solidity": 0.2
             }
            },
            "type": "barpolar"
           }
          ],
          "carpet": [
           {
            "aaxis": {
             "endlinecolor": "#2a3f5f",
             "gridcolor": "white",
             "linecolor": "white",
             "minorgridcolor": "white",
             "startlinecolor": "#2a3f5f"
            },
            "baxis": {
             "endlinecolor": "#2a3f5f",
             "gridcolor": "white",
             "linecolor": "white",
             "minorgridcolor": "white",
             "startlinecolor": "#2a3f5f"
            },
            "type": "carpet"
           }
          ],
          "choropleth": [
           {
            "colorbar": {
             "outlinewidth": 0,
             "ticks": ""
            },
            "type": "choropleth"
           }
          ],
          "contour": [
           {
            "colorbar": {
             "outlinewidth": 0,
             "ticks": ""
            },
            "colorscale": [
             [
              0,
              "#0d0887"
             ],
             [
              0.1111111111111111,
              "#46039f"
             ],
             [
              0.2222222222222222,
              "#7201a8"
             ],
             [
              0.3333333333333333,
              "#9c179e"
             ],
             [
              0.4444444444444444,
              "#bd3786"
             ],
             [
              0.5555555555555556,
              "#d8576b"
             ],
             [
              0.6666666666666666,
              "#ed7953"
             ],
             [
              0.7777777777777778,
              "#fb9f3a"
             ],
             [
              0.8888888888888888,
              "#fdca26"
             ],
             [
              1,
              "#f0f921"
             ]
            ],
            "type": "contour"
           }
          ],
          "contourcarpet": [
           {
            "colorbar": {
             "outlinewidth": 0,
             "ticks": ""
            },
            "type": "contourcarpet"
           }
          ],
          "heatmap": [
           {
            "colorbar": {
             "outlinewidth": 0,
             "ticks": ""
            },
            "colorscale": [
             [
              0,
              "#0d0887"
             ],
             [
              0.1111111111111111,
              "#46039f"
             ],
             [
              0.2222222222222222,
              "#7201a8"
             ],
             [
              0.3333333333333333,
              "#9c179e"
             ],
             [
              0.4444444444444444,
              "#bd3786"
             ],
             [
              0.5555555555555556,
              "#d8576b"
             ],
             [
              0.6666666666666666,
              "#ed7953"
             ],
             [
              0.7777777777777778,
              "#fb9f3a"
             ],
             [
              0.8888888888888888,
              "#fdca26"
             ],
             [
              1,
              "#f0f921"
             ]
            ],
            "type": "heatmap"
           }
          ],
          "histogram": [
           {
            "marker": {
             "pattern": {
              "fillmode": "overlay",
              "size": 10,
              "solidity": 0.2
             }
            },
            "type": "histogram"
           }
          ],
          "histogram2d": [
           {
            "colorbar": {
             "outlinewidth": 0,
             "ticks": ""
            },
            "colorscale": [
             [
              0,
              "#0d0887"
             ],
             [
              0.1111111111111111,
              "#46039f"
             ],
             [
              0.2222222222222222,
              "#7201a8"
             ],
             [
              0.3333333333333333,
              "#9c179e"
             ],
             [
              0.4444444444444444,
              "#bd3786"
             ],
             [
              0.5555555555555556,
              "#d8576b"
             ],
             [
              0.6666666666666666,
              "#ed7953"
             ],
             [
              0.7777777777777778,
              "#fb9f3a"
             ],
             [
              0.8888888888888888,
              "#fdca26"
             ],
             [
              1,
              "#f0f921"
             ]
            ],
            "type": "histogram2d"
           }
          ],
          "histogram2dcontour": [
           {
            "colorbar": {
             "outlinewidth": 0,
             "ticks": ""
            },
            "colorscale": [
             [
              0,
              "#0d0887"
             ],
             [
              0.1111111111111111,
              "#46039f"
             ],
             [
              0.2222222222222222,
              "#7201a8"
             ],
             [
              0.3333333333333333,
              "#9c179e"
             ],
             [
              0.4444444444444444,
              "#bd3786"
             ],
             [
              0.5555555555555556,
              "#d8576b"
             ],
             [
              0.6666666666666666,
              "#ed7953"
             ],
             [
              0.7777777777777778,
              "#fb9f3a"
             ],
             [
              0.8888888888888888,
              "#fdca26"
             ],
             [
              1,
              "#f0f921"
             ]
            ],
            "type": "histogram2dcontour"
           }
          ],
          "mesh3d": [
           {
            "colorbar": {
             "outlinewidth": 0,
             "ticks": ""
            },
            "type": "mesh3d"
           }
          ],
          "parcoords": [
           {
            "line": {
             "colorbar": {
              "outlinewidth": 0,
              "ticks": ""
             }
            },
            "type": "parcoords"
           }
          ],
          "pie": [
           {
            "automargin": true,
            "type": "pie"
           }
          ],
          "scatter": [
           {
            "fillpattern": {
             "fillmode": "overlay",
             "size": 10,
             "solidity": 0.2
            },
            "type": "scatter"
           }
          ],
          "scatter3d": [
           {
            "line": {
             "colorbar": {
              "outlinewidth": 0,
              "ticks": ""
             }
            },
            "marker": {
             "colorbar": {
              "outlinewidth": 0,
              "ticks": ""
             }
            },
            "type": "scatter3d"
           }
          ],
          "scattercarpet": [
           {
            "marker": {
             "colorbar": {
              "outlinewidth": 0,
              "ticks": ""
             }
            },
            "type": "scattercarpet"
           }
          ],
          "scattergeo": [
           {
            "marker": {
             "colorbar": {
              "outlinewidth": 0,
              "ticks": ""
             }
            },
            "type": "scattergeo"
           }
          ],
          "scattergl": [
           {
            "marker": {
             "colorbar": {
              "outlinewidth": 0,
              "ticks": ""
             }
            },
            "type": "scattergl"
           }
          ],
          "scattermap": [
           {
            "marker": {
             "colorbar": {
              "outlinewidth": 0,
              "ticks": ""
             }
            },
            "type": "scattermap"
           }
          ],
          "scattermapbox": [
           {
            "marker": {
             "colorbar": {
              "outlinewidth": 0,
              "ticks": ""
             }
            },
            "type": "scattermapbox"
           }
          ],
          "scatterpolar": [
           {
            "marker": {
             "colorbar": {
              "outlinewidth": 0,
              "ticks": ""
             }
            },
            "type": "scatterpolar"
           }
          ],
          "scatterpolargl": [
           {
            "marker": {
             "colorbar": {
              "outlinewidth": 0,
              "ticks": ""
             }
            },
            "type": "scatterpolargl"
           }
          ],
          "scatterternary": [
           {
            "marker": {
             "colorbar": {
              "outlinewidth": 0,
              "ticks": ""
             }
            },
            "type": "scatterternary"
           }
          ],
          "surface": [
           {
            "colorbar": {
             "outlinewidth": 0,
             "ticks": ""
            },
            "colorscale": [
             [
              0,
              "#0d0887"
             ],
             [
              0.1111111111111111,
              "#46039f"
             ],
             [
              0.2222222222222222,
              "#7201a8"
             ],
             [
              0.3333333333333333,
              "#9c179e"
             ],
             [
              0.4444444444444444,
              "#bd3786"
             ],
             [
              0.5555555555555556,
              "#d8576b"
             ],
             [
              0.6666666666666666,
              "#ed7953"
             ],
             [
              0.7777777777777778,
              "#fb9f3a"
             ],
             [
              0.8888888888888888,
              "#fdca26"
             ],
             [
              1,
              "#f0f921"
             ]
            ],
            "type": "surface"
           }
          ],
          "table": [
           {
            "cells": {
             "fill": {
              "color": "#EBF0F8"
             },
             "line": {
              "color": "white"
             }
            },
            "header": {
             "fill": {
              "color": "#C8D4E3"
             },
             "line": {
              "color": "white"
             }
            },
            "type": "table"
           }
          ]
         },
         "layout": {
          "annotationdefaults": {
           "arrowcolor": "#2a3f5f",
           "arrowhead": 0,
           "arrowwidth": 1
          },
          "autotypenumbers": "strict",
          "coloraxis": {
           "colorbar": {
            "outlinewidth": 0,
            "ticks": ""
           }
          },
          "colorscale": {
           "diverging": [
            [
             0,
             "#8e0152"
            ],
            [
             0.1,
             "#c51b7d"
            ],
            [
             0.2,
             "#de77ae"
            ],
            [
             0.3,
             "#f1b6da"
            ],
            [
             0.4,
             "#fde0ef"
            ],
            [
             0.5,
             "#f7f7f7"
            ],
            [
             0.6,
             "#e6f5d0"
            ],
            [
             0.7,
             "#b8e186"
            ],
            [
             0.8,
             "#7fbc41"
            ],
            [
             0.9,
             "#4d9221"
            ],
            [
             1,
             "#276419"
            ]
           ],
           "sequential": [
            [
             0,
             "#0d0887"
            ],
            [
             0.1111111111111111,
             "#46039f"
            ],
            [
             0.2222222222222222,
             "#7201a8"
            ],
            [
             0.3333333333333333,
             "#9c179e"
            ],
            [
             0.4444444444444444,
             "#bd3786"
            ],
            [
             0.5555555555555556,
             "#d8576b"
            ],
            [
             0.6666666666666666,
             "#ed7953"
            ],
            [
             0.7777777777777778,
             "#fb9f3a"
            ],
            [
             0.8888888888888888,
             "#fdca26"
            ],
            [
             1,
             "#f0f921"
            ]
           ],
           "sequentialminus": [
            [
             0,
             "#0d0887"
            ],
            [
             0.1111111111111111,
             "#46039f"
            ],
            [
             0.2222222222222222,
             "#7201a8"
            ],
            [
             0.3333333333333333,
             "#9c179e"
            ],
            [
             0.4444444444444444,
             "#bd3786"
            ],
            [
             0.5555555555555556,
             "#d8576b"
            ],
            [
             0.6666666666666666,
             "#ed7953"
            ],
            [
             0.7777777777777778,
             "#fb9f3a"
            ],
            [
             0.8888888888888888,
             "#fdca26"
            ],
            [
             1,
             "#f0f921"
            ]
           ]
          },
          "colorway": [
           "#636efa",
           "#EF553B",
           "#00cc96",
           "#ab63fa",
           "#FFA15A",
           "#19d3f3",
           "#FF6692",
           "#B6E880",
           "#FF97FF",
           "#FECB52"
          ],
          "font": {
           "color": "#2a3f5f"
          },
          "geo": {
           "bgcolor": "white",
           "lakecolor": "white",
           "landcolor": "#E5ECF6",
           "showlakes": true,
           "showland": true,
           "subunitcolor": "white"
          },
          "hoverlabel": {
           "align": "left"
          },
          "hovermode": "closest",
          "mapbox": {
           "style": "light"
          },
          "paper_bgcolor": "white",
          "plot_bgcolor": "#E5ECF6",
          "polar": {
           "angularaxis": {
            "gridcolor": "white",
            "linecolor": "white",
            "ticks": ""
           },
           "bgcolor": "#E5ECF6",
           "radialaxis": {
            "gridcolor": "white",
            "linecolor": "white",
            "ticks": ""
           }
          },
          "scene": {
           "xaxis": {
            "backgroundcolor": "#E5ECF6",
            "gridcolor": "white",
            "gridwidth": 2,
            "linecolor": "white",
            "showbackground": true,
            "ticks": "",
            "zerolinecolor": "white"
           },
           "yaxis": {
            "backgroundcolor": "#E5ECF6",
            "gridcolor": "white",
            "gridwidth": 2,
            "linecolor": "white",
            "showbackground": true,
            "ticks": "",
            "zerolinecolor": "white"
           },
           "zaxis": {
            "backgroundcolor": "#E5ECF6",
            "gridcolor": "white",
            "gridwidth": 2,
            "linecolor": "white",
            "showbackground": true,
            "ticks": "",
            "zerolinecolor": "white"
           }
          },
          "shapedefaults": {
           "line": {
            "color": "#2a3f5f"
           }
          },
          "ternary": {
           "aaxis": {
            "gridcolor": "white",
            "linecolor": "white",
            "ticks": ""
           },
           "baxis": {
            "gridcolor": "white",
            "linecolor": "white",
            "ticks": ""
           },
           "bgcolor": "#E5ECF6",
           "caxis": {
            "gridcolor": "white",
            "linecolor": "white",
            "ticks": ""
           }
          },
          "title": {
           "x": 0.05
          },
          "xaxis": {
           "automargin": true,
           "gridcolor": "white",
           "linecolor": "white",
           "ticks": "",
           "title": {
            "standoff": 15
           },
           "zerolinecolor": "white",
           "zerolinewidth": 2
          },
          "yaxis": {
           "automargin": true,
           "gridcolor": "white",
           "linecolor": "white",
           "ticks": "",
           "title": {
            "standoff": 15
           },
           "zerolinecolor": "white",
           "zerolinewidth": 2
          }
         }
        },
        "title": {
         "font": {
          "size": 20
         },
         "text": "<b>FEATURE IMPORTANCE COMPARISON</b>",
         "x": 0.5,
         "y": 0.95,
         "yanchor": "top"
        },
        "width": 1200,
        "xaxis": {
         "anchor": "y",
         "domain": [
          0,
          0.4
         ],
         "title": {
          "font": {
           "size": 12
          },
          "text": "Absolute Coefficient Value"
         }
        },
        "xaxis2": {
         "anchor": "y2",
         "domain": [
          0.6000000000000001,
          1
         ],
         "title": {
          "font": {
           "size": 12
          },
          "text": "Importance Score"
         }
        },
        "yaxis": {
         "anchor": "x",
         "domain": [
          0,
          1
         ],
         "tickfont": {
          "size": 11
         }
        },
        "yaxis2": {
         "anchor": "x2",
         "domain": [
          0,
          1
         ],
         "tickfont": {
          "size": 11
         }
        }
       }
      }
     },
     "metadata": {},
     "output_type": "display_data"
    }
   ],
   "source": [
    "import plotly.graph_objects as go\n",
    "from plotly.subplots import make_subplots\n",
    "\n",
    "fig = make_subplots(rows=1, cols=2, \n",
    "                   subplot_titles=('<b>Linear Regression</b><br>Feature Importance', \n",
    "                                  '<b>Random Forest</b><br>Feature Importance'),\n",
    "                   horizontal_spacing=0.2)\n",
    "\n",
    "fig.add_trace(go.Bar(y=lr_importance['Feature'][:8],\n",
    "                    x=lr_importance['Abs_Coefficient'][:8],\n",
    "                    orientation='h',\n",
    "                    name='Linear Regression',\n",
    "                    marker_color='#1f77b4'),\n",
    "             row=1, col=1)\n",
    "\n",
    "fig.add_trace(go.Bar(y=rf_importance['Feature'][:8],\n",
    "                    x=rf_importance['Importance'][:8],\n",
    "                    orientation='h',\n",
    "                    name='Random Forest',\n",
    "                    marker_color='#ff7f0e'),\n",
    "             row=1, col=2)\n",
    "\n",
    "fig.update_layout(\n",
    "    height=600,\n",
    "    width=1200,\n",
    "    showlegend=False,\n",
    "    title_text=\"<b>FEATURE IMPORTANCE COMPARISON</b>\",\n",
    "    title_font_size=20,\n",
    "    title_x=0.5,\n",
    "    title_y=0.95,\n",
    "    title_yanchor='top',\n",
    "    margin=dict(l=50, r=50, t=150, b=50)\n",
    ")\n",
    "\n",
    "fig.update_xaxes(\n",
    "    title_text=\"Absolute Coefficient Value\", \n",
    "    row=1, col=1,\n",
    "    title_font_size=12\n",
    ")\n",
    "fig.update_xaxes(\n",
    "    title_text=\"Importance Score\", \n",
    "    row=1, col=2,\n",
    "    title_font_size=12\n",
    ")\n",
    "\n",
    "fig.update_yaxes(\n",
    "    tickfont_size=11,\n",
    "    row=1, col=1\n",
    ")\n",
    "fig.update_yaxes(\n",
    "    tickfont_size=11,\n",
    "    row=1, col=2\n",
    ")\n",
    "\n",
    "fig.write_image(\"feature_importance.png\", \n",
    "               width=1200, \n",
    "               height=700,\n",
    "               scale=2,\n",
    "               engine=\"kaleido\")\n",
    "\n",
    "fig.show()"
   ]
  }
 ],
 "metadata": {
  "kernelspec": {
   "display_name": "Python 3",
   "language": "python",
   "name": "python3"
  },
  "language_info": {
   "codemirror_mode": {
    "name": "ipython",
    "version": 3
   },
   "file_extension": ".py",
   "mimetype": "text/x-python",
   "name": "python",
   "nbconvert_exporter": "python",
   "pygments_lexer": "ipython3",
   "version": "3.13.3"
  }
 },
 "nbformat": 4,
 "nbformat_minor": 5
}
